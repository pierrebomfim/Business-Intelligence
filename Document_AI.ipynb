{
  "nbformat": 4,
  "nbformat_minor": 0,
  "metadata": {
    "colab": {
      "provenance": [],
      "collapsed_sections": [],
      "authorship_tag": "ABX9TyNCgzxV2Nx2O7wXSHJRBYkF",
      "include_colab_link": true
    },
    "kernelspec": {
      "name": "python3",
      "display_name": "Python 3"
    },
    "language_info": {
      "name": "python"
    }
  },
  "cells": [
    {
      "cell_type": "markdown",
      "metadata": {
        "id": "view-in-github",
        "colab_type": "text"
      },
      "source": [
        "<a href=\"https://colab.research.google.com/github/pierrebomfim/Business-Intelligence/blob/main/Document_AI.ipynb\" target=\"_parent\"><img src=\"https://colab.research.google.com/assets/colab-badge.svg\" alt=\"Open In Colab\"/></a>"
      ]
    },
    {
      "cell_type": "markdown",
      "source": [
        "# Extraindo dados de um documento com **Google Document AI**\n",
        "\n",
        "<center><img width=\"70%\" src=\"https://www.gstatic.com/pantheon/images/cloud_ai/documentai/home/welcome_2.png\"></center>\n",
        "\n",
        "---\n",
        "\n"
      ],
      "metadata": {
        "id": "qrMfuYAcnzFR"
      }
    },
    {
      "cell_type": "code",
      "execution_count": null,
      "metadata": {
        "id": "72fHj5mInxCd"
      },
      "outputs": [],
      "source": [
        "#Instalando as bibliotecas de cliente\n",
        "!pip3 install --upgrade google-cloud-documentai\n",
        "!pip3 install --upgrade google-cloud-storage"
      ]
    },
    {
      "cell_type": "code",
      "source": [
        "#Impotando os modulos necessários\n",
        "from google.colab import drive\n",
        "from google.api_core.client_options import ClientOptions\n",
        "from google.cloud import documentai\n",
        "from typing import Sequence"
      ],
      "metadata": {
        "id": "r5o4aU9IoSsr"
      },
      "execution_count": null,
      "outputs": []
    },
    {
      "cell_type": "code",
      "source": [
        "#Montando o drive\n",
        "drive.mount('/content/gdrive')"
      ],
      "metadata": {
        "colab": {
          "base_uri": "https://localhost:8080/"
        },
        "id": "cHF9_yhMosi9",
        "outputId": "c537c23b-1ab0-4b5b-bc19-fc7c9da3c6da"
      },
      "execution_count": null,
      "outputs": [
        {
          "output_type": "stream",
          "name": "stdout",
          "text": [
            "Mounted at /content/gdrive\n"
          ]
        }
      ]
    },
    {
      "cell_type": "markdown",
      "source": [
        "Na etapa de autenticação, foi criada uma chave e salva em formato json. A autenticação é através do ADC - Application Default Credentials. A grosso modo, é feita de forma automática, procurando uma chave válida atribuída numa variável de ambiente específica."
      ],
      "metadata": {
        "id": "Rn_aC6JYqFAG"
      }
    },
    {
      "cell_type": "code",
      "source": [
        "# Atribuir o caminho do arquivo JSON com a chave à uma variável\n",
        "key_path = \"/content/gdrive/MyDrive/Sigmoidal/GCloud/project-api-class-ca09b94078a0.json\"\n",
        "# Criar uma variável de ambiente\n",
        "%env GOOGLE_APPLICATION_CREDENTIALS=$key_path"
      ],
      "metadata": {
        "colab": {
          "base_uri": "https://localhost:8080/"
        },
        "id": "S9QT2VWmMrSt",
        "outputId": "c3a80de4-5149-43d4-c645-0998dd54e57d"
      },
      "execution_count": null,
      "outputs": [
        {
          "output_type": "stream",
          "name": "stdout",
          "text": [
            "env: GOOGLE_APPLICATION_CREDENTIALS=/content/gdrive/MyDrive/Sigmoidal/GCloud/project-api-class-ca09b94078a0.json\n"
          ]
        }
      ]
    },
    {
      "cell_type": "markdown",
      "source": [
        "## Processador **OCR** (Optical Character Recognition)\n",
        "\n",
        "\n",
        "\n",
        "\n"
      ],
      "metadata": {
        "id": "sXy-zdkUmCaJ"
      }
    },
    {
      "cell_type": "code",
      "source": [
        "# Atribuir os dados de projeto e processador às variáveis:\n",
        "project_id = '948948348724'\n",
        "location = 'us'\n",
        "processor_id = '5dd028a0ccc1456'  # OCR processor\n",
        "mime_type = 'application/pdf'\n",
        "\n",
        "# Caminho do arquivo a ser manipulado\n",
        "file_path = '/content/gdrive/MyDrive/Sigmoidal/GCloud/Winnie_the_Pooh_3_Pages.pdf'\n"
      ],
      "metadata": {
        "id": "5O8vEDTxx-wX"
      },
      "execution_count": null,
      "outputs": []
    },
    {
      "cell_type": "code",
      "source": [
        "# Função de requisição na API\n",
        "def quickstart(\n",
        "    project_id: str, location: str, processor_id: str, file_path: str, mime_type: str\n",
        "):\n",
        "    \n",
        "    opts = ClientOptions(api_endpoint=f\"{location}-documentai.googleapis.com\")\n",
        "\n",
        "    client = documentai.DocumentProcessorServiceClient(client_options=opts)\n",
        "    \n",
        "    name = client.processor_path(project_id, location, processor_id)\n",
        "\n",
        "    # Read the file into memory\n",
        "    with open(file_path, \"rb\") as image:\n",
        "        image_content = image.read()\n",
        "\n",
        "    # Load Binary Data into Document AI RawDocument Object\n",
        "    raw_document = documentai.RawDocument(content=image_content, mime_type=mime_type)\n",
        "\n",
        "    # Configure the process request\n",
        "    request = documentai.ProcessRequest(name=name, raw_document=raw_document)\n",
        "\n",
        "    result = client.process_document(request=request)\n",
        "\n",
        "    document = result.document\n",
        "\n",
        "    return document"
      ],
      "metadata": {
        "id": "FKfWv7eKxyyn"
      },
      "execution_count": null,
      "outputs": []
    },
    {
      "cell_type": "code",
      "source": [
        "# Chamar a função \n",
        "document = quickstart(project_id, location, processor_id, file_path, mime_type)"
      ],
      "metadata": {
        "id": "TtE8R-zNx4mF"
      },
      "execution_count": null,
      "outputs": []
    },
    {
      "cell_type": "code",
      "source": [
        "# Para ver o texto do documento (atributo text):\n",
        "print(\"O texto do documento é: \\n\", document.text)"
      ],
      "metadata": {
        "id": "4O0aO0Ypc6DT"
      },
      "execution_count": null,
      "outputs": []
    },
    {
      "cell_type": "markdown",
      "source": [
        "Para ver todos os atributos do objeto *document*, [click aqui.](https://cloud.google.com/python/docs/reference/documentai/latest/google.cloud.documentai_v1.types.Document)"
      ],
      "metadata": {
        "id": "xXzbyaqCjVbp"
      }
    },
    {
      "cell_type": "markdown",
      "source": [
        "- Cópia do código disponibilizado na documentação:"
      ],
      "metadata": {
        "id": "hlHZOS0TEc_o"
      }
    },
    {
      "cell_type": "code",
      "source": [
        "# Copyright 2020 Google LLC\n",
        "#\n",
        "# Licensed under the Apache License, Version 2.0 (the \"License\");\n",
        "# you may not use this file except in compliance with the License.\n",
        "# You may obtain a copy of the License at\n",
        "#\n",
        "#     http://www.apache.org/licenses/LICENSE-2.0\n",
        "#\n",
        "# Unless required by applicable law or agreed to in writing, software\n",
        "# distributed under the License is distributed on an \"AS IS\" BASIS,\n",
        "# WITHOUT WARRANTIES OR CONDITIONS OF ANY KIND, either express or implied.\n",
        "# See the License for the specific language governing permissions and\n",
        "# limitations under the License.\n",
        "#\n",
        "\n",
        "\n",
        "from typing import Sequence\n",
        "\n",
        "from google.api_core.client_options import ClientOptions\n",
        "from google.cloud import documentai\n",
        "\n",
        "# TODO(developer): Uncomment these variables before running the sample.\n",
        "# project_id = 'YOUR_PROJECT_ID'\n",
        "# location = 'YOUR_PROCESSOR_LOCATION' # Format is 'us' or 'eu'\n",
        "# processor_id = 'YOUR_PROCESSOR_ID' # Create processor before running sample\n",
        "# file_path = '/path/to/local/pdf'\n",
        "# mime_type = 'application/pdf' # Refer to https://cloud.google.com/document-ai/docs/file-types for supported file types\n",
        "\n",
        "\n",
        "def process_document_ocr_sample(\n",
        "    project_id: str, location: str, processor_id: str, file_path: str, mime_type: str\n",
        ") -> None:\n",
        "    # Online processing request to Document AI\n",
        "    document = process_document(\n",
        "        project_id, location, processor_id, file_path, mime_type\n",
        "    )\n",
        "\n",
        "    # For a full list of Document object attributes, please reference this page:\n",
        "    # https://cloud.google.com/python/docs/reference/documentai/latest/google.cloud.documentai_v1.types.Document\n",
        "\n",
        "    text = document.text\n",
        "    print(f\"Full document text: {text}\\n\")\n",
        "    print(f\"There are {len(document.pages)} page(s) in this document.\\n\")\n",
        "\n",
        "    for page in document.pages:\n",
        "        print(f\"Page {page.page_number}:\")\n",
        "        print_page_dimensions(page.dimension)\n",
        "        print_detected_langauges(page.detected_languages)\n",
        "        print_paragraphs(page.paragraphs, text)\n",
        "        print_blocks(page.blocks, text)\n",
        "        print_lines(page.lines, text)\n",
        "        print_tokens(page.tokens, text)\n",
        "\n",
        "\n",
        "def process_document(\n",
        "    project_id: str, location: str, processor_id: str, file_path: str, mime_type: str\n",
        ") -> documentai.Document:\n",
        "    # You must set the api_endpoint if you use a location other than 'us', e.g.:\n",
        "    opts = ClientOptions(api_endpoint=f\"{location}-documentai.googleapis.com\")\n",
        "\n",
        "    client = documentai.DocumentProcessorServiceClient(client_options=opts)\n",
        "\n",
        "    # The full resource name of the processor, e.g.:\n",
        "    # projects/project_id/locations/location/processor/processor_id\n",
        "    # You must create processors before running sample code.\n",
        "    name = client.processor_path(project_id, location, processor_id)\n",
        "\n",
        "    # Read the file into memory\n",
        "    with open(file_path, \"rb\") as image:\n",
        "        image_content = image.read()\n",
        "\n",
        "    # Load Binary Data into Document AI RawDocument Object\n",
        "    raw_document = documentai.RawDocument(content=image_content, mime_type=mime_type)\n",
        "\n",
        "    # Configure the process request\n",
        "    request = documentai.ProcessRequest(name=name, raw_document=raw_document)\n",
        "\n",
        "    result = client.process_document(request=request)\n",
        "\n",
        "    return result.document\n",
        "\n",
        "\n",
        "def print_page_dimensions(dimension: documentai.Document.Page.Dimension) -> None:\n",
        "    print(f\"    Width: {str(dimension.width)}\")\n",
        "    print(f\"    Height: {str(dimension.height)}\")\n",
        "\n",
        "\n",
        "def print_detected_langauges(\n",
        "    detected_languages: Sequence[documentai.Document.Page.DetectedLanguage],\n",
        ") -> None:\n",
        "    print(\"    Detected languages:\")\n",
        "    for lang in detected_languages:\n",
        "        code = lang.language_code\n",
        "        print(f\"        {code} ({lang.confidence:.1%} confidence)\")\n",
        "\n",
        "\n",
        "def print_paragraphs(\n",
        "    paragraphs: Sequence[documentai.Document.Page.Paragraph], text: str\n",
        ") -> None:\n",
        "    print(f\"    {len(paragraphs)} paragraphs detected:\")\n",
        "    first_paragraph_text = layout_to_text(paragraphs[0].layout, text)\n",
        "    print(f\"        First paragraph text: {repr(first_paragraph_text)}\")\n",
        "    last_paragraph_text = layout_to_text(paragraphs[-1].layout, text)\n",
        "    print(f\"        Last paragraph text: {repr(last_paragraph_text)}\")\n",
        "\n",
        "\n",
        "def print_blocks(blocks: Sequence[documentai.Document.Page.Block], text: str) -> None:\n",
        "    print(f\"    {len(blocks)} blocks detected:\")\n",
        "    first_block_text = layout_to_text(blocks[0].layout, text)\n",
        "    print(f\"        First text block: {repr(first_block_text)}\")\n",
        "    last_block_text = layout_to_text(blocks[-1].layout, text)\n",
        "    print(f\"        Last text block: {repr(last_block_text)}\")\n",
        "\n",
        "\n",
        "def print_lines(lines: Sequence[documentai.Document.Page.Line], text: str) -> None:\n",
        "    print(f\"    {len(lines)} lines detected:\")\n",
        "    first_line_text = layout_to_text(lines[0].layout, text)\n",
        "    print(f\"        First line text: {repr(first_line_text)}\")\n",
        "    last_line_text = layout_to_text(lines[-1].layout, text)\n",
        "    print(f\"        Last line text: {repr(last_line_text)}\")\n",
        "\n",
        "\n",
        "def print_tokens(tokens: Sequence[documentai.Document.Page.Token], text: str) -> None:\n",
        "    print(f\"    {len(tokens)} tokens detected:\")\n",
        "    first_token_text = layout_to_text(tokens[0].layout, text)\n",
        "    first_token_break_type = tokens[0].detected_break.type_.name\n",
        "    print(f\"        First token text: {repr(first_token_text)}\")\n",
        "    print(f\"        First token break type: {repr(first_token_break_type)}\")\n",
        "    last_token_text = layout_to_text(tokens[-1].layout, text)\n",
        "    last_token_break_type = tokens[-1].detected_break.type_.name\n",
        "    print(f\"        Last token text: {repr(last_token_text)}\")\n",
        "    print(f\"        Last token break type: {repr(last_token_break_type)}\")\n",
        "\n",
        "\n",
        "def layout_to_text(layout: documentai.Document.Page.Layout, text: str) -> str:\n",
        "    \"\"\"\n",
        "    Document AI identifies text in different parts of the document by their\n",
        "    offsets in the entirety of the document's text. This function converts\n",
        "    offsets to a string.\n",
        "    \"\"\"\n",
        "    response = \"\"\n",
        "    # If a text segment spans several lines, it will\n",
        "    # be stored in different text segments.\n",
        "    for segment in layout.text_anchor.text_segments:\n",
        "        start_index = int(segment.start_index)\n",
        "        end_index = int(segment.end_index)\n",
        "        response += text[start_index:end_index]\n",
        "    return response\n",
        "\n"
      ],
      "metadata": {
        "id": "8evo7jdVD0ld"
      },
      "execution_count": null,
      "outputs": []
    },
    {
      "cell_type": "code",
      "source": [
        "process_document_ocr_sample(\n",
        "    project_id, location, processor_id, file_path, mime_type)"
      ],
      "metadata": {
        "colab": {
          "base_uri": "https://localhost:8080/"
        },
        "id": "rujaIS6YD6mO",
        "outputId": "87d76824-0770-4ab9-880b-a9158dad4a8e"
      },
      "execution_count": null,
      "outputs": [
        {
          "output_type": "stream",
          "name": "stdout",
          "text": [
            "Full document text: IN WHICH We Are Introduced to\n",
            "CHAPTER I\n",
            "Winnie-the-Pooh and Some\n",
            "Bees, and the Stories Begin\n",
            "HERE is Edward Bear, coming\n",
            "downstairs now, bump, bump, bump, on the back\n",
            "of his head, behind Christopher Robin. It is, as far\n",
            "as he knows, the only way of coming downstairs,\n",
            "but sometimes he feels that there really is another\n",
            "way, if only he could stop bumping for a moment\n",
            "and think of it. And then he feels that perhaps there\n",
            "isn't. Anyhow, here he is at the bottom, and ready\n",
            "to be introduced to you. Winnie-the-Pooh.\n",
            "When I first heard his name, I said, just as you\n",
            "are going to say, \"But I thought he was a boy?\"\n",
            "\"So did I,\" said Christopher Robin.\n",
            "\"Then you can't call him Winnie?\"\n",
            "\"I don't.\"\n",
            "\"But you said--\"\n",
            "\"He's Winnie-ther-Pooh. Don't you know what\n",
            "'ther' means?”\n",
            "I\n",
            "Digitized by\n",
            "Google\n",
            "WINNIE-THE-POOH\n",
            "“Ah, yes, now I do,\" I said quickly; and I hope\n",
            "you do too, because it is all the explanation you are\n",
            "going to get.\n",
            "Sometimes Winnie-the-Pooh likes a game of some\n",
            "sort when he comes downstairs, and sometimes he\n",
            "likes to sit quietly in front of the fire and listen to a\n",
            "story. This evening-\n",
            "\"What about a story?\" said Christopher Robin.\n",
            "\"What about a story?\" I said.\n",
            "\"Could you very sweetly tell Winnie-the-Pooh\n",
            "one?\"\n",
            "\"I suppose I could,\" I said. \"What sort of stories\n",
            "does he like?\"\n",
            "\"About himself. Because he's that sort of Bear.\"\n",
            "\"Oh, I see.\"\n",
            "\"So could you very sweetly?\"\n",
            "\"I'll try,\" I said.\n",
            "So I tried,\n",
            "Once upon a time, a very long time ago now,\n",
            "about last Friday, Winnie-the-Pooh lived in a forest\n",
            "all by himself under the name of Sande.s.\n",
            "(\"What does 'under the name' mean?\" asked\n",
            "Christopher Robin.\n",
            "\"It means he had the name over the door in gold\n",
            "letters, and lived under it.”\n",
            "Digitized by\n",
            "Google\n",
            "WE ARE INTRODUCED\n",
            "AB SANDER\n",
            "RNIG\n",
            "AALSO\n",
            "\"Winnie-the-Pooh wasn't quite sure,\" said Chris-\n",
            "topher Robin.\n",
            "\"Now I am,\" said a growly voice.\n",
            "\"Then I will go on,\" said I.)\n",
            "3\n",
            "One day when he was out walking, he came to\n",
            "an open place in the middle of the forest, and in the\n",
            "middle of this place was a large oak-tree, and, from\n",
            "the top of the tree, there came a loud buzzing-noise.\n",
            "Winnie-the-Pooh sat down at the foot of the tree,\n",
            "put his head between his paws and began to think.\n",
            "Digitized by\n",
            "Google\n",
            "\n",
            "\n",
            "There are 3 page(s) in this document.\n",
            "\n",
            "Page 1:\n",
            "    Width: 1589.0\n",
            "    Height: 2515.0\n",
            "    Detected languages:\n",
            "        en (98.0% confidence)\n",
            "    11 paragraphs detected:\n",
            "        First paragraph text: 'IN WHICH We Are Introduced to\\n'\n",
            "        Last paragraph text: 'Google\\n'\n",
            "    7 blocks detected:\n",
            "        First text block: 'IN WHICH We Are Introduced to\\n'\n",
            "        Last text block: 'Google\\n'\n",
            "    24 lines detected:\n",
            "        First line text: 'IN WHICH We Are Introduced to\\n'\n",
            "        Last line text: 'Google\\n'\n",
            "    199 tokens detected:\n",
            "        First token text: 'IN '\n",
            "        First token break type: 'SPACE'\n",
            "        Last token text: 'Google\\n'\n",
            "        Last token break type: 'WIDE_SPACE'\n",
            "Page 2:\n",
            "    Width: 1591.0\n",
            "    Height: 2513.0\n",
            "    Detected languages:\n",
            "        en (100.0% confidence)\n",
            "    14 paragraphs detected:\n",
            "        First paragraph text: 'WINNIE-THE-POOH\\n'\n",
            "        Last paragraph text: 'Google\\n'\n",
            "    5 blocks detected:\n",
            "        First text block: 'WINNIE-THE-POOH\\n“Ah, yes, now I do,\" I said quickly; and I hope\\nyou do too, because it is all the explanation you are\\ngoing to get.\\nSometimes Winnie-the-Pooh likes a game of some\\nsort when he comes downstairs, and sometimes he\\nlikes to sit quietly in front of the fire and listen to a\\nstory. This evening-\\n\"What about a story?\" said Christopher Robin.\\n\"What about a story?\" I said.\\n\"Could you very sweetly tell Winnie-the-Pooh\\none?\"\\n'\n",
            "        Last text block: 'Google\\n'\n",
            "    28 lines detected:\n",
            "        First line text: 'WINNIE-THE-POOH\\n'\n",
            "        Last line text: 'Google\\n'\n",
            "    242 tokens detected:\n",
            "        First token text: 'WINNIE'\n",
            "        First token break type: 'TYPE_UNSPECIFIED'\n",
            "        Last token text: 'Google\\n'\n",
            "        Last token break type: 'WIDE_SPACE'\n",
            "Page 3:\n",
            "    Width: 1592.0\n",
            "    Height: 2511.0\n",
            "    Detected languages:\n",
            "        en (96.6% confidence)\n",
            "        de (1.5% confidence)\n",
            "        et (0.9% confidence)\n",
            "    10 paragraphs detected:\n",
            "        First paragraph text: 'WE ARE INTRODUCED\\n'\n",
            "        Last paragraph text: 'Google\\n'\n",
            "    9 blocks detected:\n",
            "        First text block: 'WE ARE INTRODUCED\\n'\n",
            "        Last text block: 'Google\\n'\n",
            "    17 lines detected:\n",
            "        First line text: 'WE ARE INTRODUCED\\n'\n",
            "        Last line text: 'Google\\n'\n",
            "    126 tokens detected:\n",
            "        First token text: 'WE '\n",
            "        First token break type: 'SPACE'\n",
            "        Last token text: 'Google\\n'\n",
            "        Last token break type: 'WIDE_SPACE'\n"
          ]
        }
      ]
    },
    {
      "cell_type": "markdown",
      "source": [
        "## Processador **Form Parser**"
      ],
      "metadata": {
        "id": "IzMNUmhjlUki"
      }
    },
    {
      "cell_type": "code",
      "source": [
        "# Atribuir os dados de projeto e processador às variáveis:\n",
        "project_id = '948948348724'\n",
        "location = 'us'\n",
        "processor_id = 'aec3159bd47262a5' # Form Parser Processor\n",
        "mime_type = 'application/pdf'\n",
        "\n",
        "# Caminho do arquivo a ser manipulado\n",
        "file_path = '/content/gdrive/MyDrive/Sigmoidal/GCloud/intake-form.pdf'\n"
      ],
      "metadata": {
        "id": "6jjhh_n5lkyE"
      },
      "execution_count": null,
      "outputs": []
    },
    {
      "cell_type": "markdown",
      "source": [
        "Código disponibilizado na documentação:"
      ],
      "metadata": {
        "id": "v6LBLmWhEl-1"
      }
    },
    {
      "cell_type": "code",
      "source": [
        "# Copyright 2020 Google LLC\n",
        "#\n",
        "# Licensed under the Apache License, Version 2.0 (the \"License\");\n",
        "# you may not use this file except in compliance with the License.\n",
        "# You may obtain a copy of the License at\n",
        "#\n",
        "#     http://www.apache.org/licenses/LICENSE-2.0\n",
        "#\n",
        "# Unless required by applicable law or agreed to in writing, software\n",
        "# distributed under the License is distributed on an \"AS IS\" BASIS,\n",
        "# WITHOUT WARRANTIES OR CONDITIONS OF ANY KIND, either express or implied.\n",
        "# See the License for the specific language governing permissions and\n",
        "# limitations under the License.\n",
        "#\n",
        "\n",
        "def process_document_form_sample(\n",
        "    project_id: str, location: str, processor_id: str, file_path: str, mime_type: str\n",
        "):\n",
        "    # Online processing request to Document AI\n",
        "    document = process_document(\n",
        "        project_id, location, processor_id, file_path, mime_type\n",
        "    )\n",
        "\n",
        "    text = document.text\n",
        "    print(f\"Texto completo do documento: {repr(text)}\\n\")\n",
        "    print(f\"Existem {len(document.pages)} páginas(s) neste documento.\")\n",
        "\n",
        "    # Read the form fields and tables output from the processor\n",
        "    for page in document.pages:\n",
        "        print(f\"\\n\\n**** Page {page.page_number} ****\")\n",
        "\n",
        "        print(f\"\\nFound {len(page.tables)} table(s):\")\n",
        "        for table in page.tables:\n",
        "            num_collumns = len(table.header_rows[0].cells)\n",
        "            num_rows = len(table.body_rows)\n",
        "            print(f\"Table with {num_collumns} columns and {num_rows} rows:\")\n",
        "\n",
        "            # Print header rows\n",
        "            print(\"Columns:\")\n",
        "            print_table_rows(table.header_rows, text)\n",
        "            # Print body rows\n",
        "            print(\"Table body data:\")\n",
        "            print_table_rows(table.body_rows, text)\n",
        "\n",
        "        print(f\"\\nFound {len(page.form_fields)} form field(s):\")\n",
        "        for field in page.form_fields:\n",
        "            name = layout_to_text(field.field_name, text)\n",
        "            value = layout_to_text(field.field_value, text)\n",
        "            print(f\"    * {repr(name.strip())}: {repr(value.strip())}\")\n",
        "\n",
        "\n",
        "def process_document(\n",
        "    project_id: str, location: str, processor_id: str, file_path: str, mime_type: str\n",
        ") -> documentai.Document:\n",
        "    # You must set the api_endpoint if you use a location other than 'us', e.g.:\n",
        "    opts = ClientOptions(api_endpoint=f\"{location}-documentai.googleapis.com\")\n",
        "\n",
        "    client = documentai.DocumentProcessorServiceClient(client_options=opts)\n",
        "\n",
        "    name = client.processor_path(project_id, location, processor_id)\n",
        "\n",
        "    # Read the file into memory\n",
        "    with open(file_path, \"rb\") as image:\n",
        "        image_content = image.read()\n",
        "\n",
        "    # Load Binary Data into Document AI RawDocument Object\n",
        "    raw_document = documentai.RawDocument(content=image_content, mime_type=mime_type)\n",
        "\n",
        "    # Configure the process request\n",
        "    request = documentai.ProcessRequest(name=name, raw_document=raw_document)\n",
        "\n",
        "    result = client.process_document(request=request)\n",
        "\n",
        "    return result.document\n",
        "\n",
        "\n",
        "def print_table_rows(\n",
        "    table_rows: Sequence[documentai.Document.Page.Table.TableRow], text: str\n",
        ") -> None:\n",
        "    for table_row in table_rows:\n",
        "        row_text = \"\"\n",
        "        for cell in table_row.cells:\n",
        "            cell_text = layout_to_text(cell.layout, text)\n",
        "            row_text += f\"{repr(cell_text.strip())} | \"\n",
        "        print(row_text)\n",
        "\n",
        "\n",
        "def layout_to_text(layout: documentai.Document.Page.Layout, text: str) -> str:\n",
        "    \"\"\"\n",
        "    Document AI identifies text in different parts of the document by their\n",
        "    offsets in the entirety of the document's text. This function converts\n",
        "    offsets to a string.\n",
        "    \"\"\"\n",
        "    response = \"\"\n",
        "    # If a text segment spans several lines, it will\n",
        "    # be stored in different text segments.\n",
        "    for segment in layout.text_anchor.text_segments:\n",
        "        start_index = int(segment.start_index)\n",
        "        end_index = int(segment.end_index)\n",
        "        response += text[start_index:end_index]\n",
        "    return response\n",
        "\n"
      ],
      "metadata": {
        "id": "Tk1Gzr-S-WXf"
      },
      "execution_count": null,
      "outputs": []
    },
    {
      "cell_type": "code",
      "source": [
        "# Chamar a função\n",
        "document = process_document_form_sample(\n",
        "    project_id, location, processor_id, file_path, mime_type\n",
        ")\n",
        "document"
      ],
      "metadata": {
        "colab": {
          "base_uri": "https://localhost:8080/"
        },
        "id": "GJBXt52WCSk-",
        "outputId": "4337892c-9530-4673-d0b0-a5076bb97394"
      },
      "execution_count": null,
      "outputs": [
        {
          "output_type": "stream",
          "name": "stdout",
          "text": [
            "Texto completo do documento: 'FakeDoc M.D.\\nHEALTH INTAKE FORM\\nPlease fill out the questionnaire carefully. The information you provide will be used to complete\\nyour health profile and will be kept confidential.\\nDate:\\nSally\\nWalker\\nName:\\n9/14/19\\nDOB: 09/04/1986\\nAddress: 24 Barney Lane City: Towaco State: NJ Zip: 07082\\nEmail: Sally, waller@cmail.com Phone #: (906) 917-3486\\nGender: F\\nSingle Occupation: Software Engineer\\nReferred By: None\\nEmergency Contact: Eva Walker Emergency Contact Phone: (906) 334-8976\\nMarital Status:\\nDescribe your medical concerns (symptoms, diagnoses, etc):\\nRunny nose, mucas in thwat, weakness,\\naches, chills, tired\\nAre you currently taking any medication? (If yes, please describe):\\nVyvanse (25mg) daily for attention\\n'\n",
            "\n",
            "Existem 1 páginas(s) neste documento.\n",
            "\n",
            "\n",
            "**** Page 1 ****\n",
            "\n",
            "Found 0 table(s):\n",
            "\n",
            "Found 17 form field(s):\n",
            "    * 'Phone #:': '(906) 917-3486'\n",
            "    * 'Emergency Contact:': 'Eva Walker'\n",
            "    * 'Marital Status:': 'Single'\n",
            "    * 'Gender:': 'F'\n",
            "    * 'Occupation:': 'Software Engineer'\n",
            "    * 'Referred By:': 'None'\n",
            "    * 'Date:': '9/14/19'\n",
            "    * 'DOB:': '09/04/1986'\n",
            "    * 'Address:': '24 Barney Lane'\n",
            "    * 'City:': 'Towaco'\n",
            "    * 'Name:': 'Sally\\nWalker'\n",
            "    * 'State:': 'NJ'\n",
            "    * 'Email:': 'Sally, waller@cmail.com'\n",
            "    * 'Zip:': '07082'\n",
            "    * 'Emergency Contact Phone:': '(906) 334-8976'\n",
            "    * 'Are you currently taking any medication? (If yes, please describe):': 'Vyvanse (25mg) daily for attention'\n",
            "    * 'Describe your medical concerns (symptoms, diagnoses, etc):': 'Runny nose, mucas in thwat, weakness,\\naches, chills, tired'\n"
          ]
        }
      ]
    },
    {
      "cell_type": "markdown",
      "source": [
        "\n",
        "\n",
        "---\n",
        "\n",
        "\n",
        "by PIERRE BOMFIM\n",
        "\n",
        "Fonte:\n",
        "\n",
        "Google Document AI - [Documentação](https://cloud.google.com/document-ai?hl=pt-br)\n",
        "\n",
        "Escola de Data Science - [Sigmoidal](https://escola.sigmoidal.ai/)"
      ],
      "metadata": {
        "id": "d9B_Nlr4znQR"
      }
    }
  ]
}