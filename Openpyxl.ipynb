{
  "nbformat": 4,
  "nbformat_minor": 0,
  "metadata": {
    "colab": {
      "provenance": [],
      "collapsed_sections": [],
      "include_colab_link": true
    },
    "kernelspec": {
      "name": "python3",
      "display_name": "Python 3"
    }
  },
  "cells": [
    {
      "cell_type": "markdown",
      "metadata": {
        "id": "view-in-github",
        "colab_type": "text"
      },
      "source": [
        "<a href=\"https://colab.research.google.com/github/pierrebomfim/business-intelligence/blob/main/Openpyxl.ipynb\" target=\"_parent\"><img src=\"https://colab.research.google.com/assets/colab-badge.svg\" alt=\"Open In Colab\"/></a>"
      ]
    },
    {
      "cell_type": "markdown",
      "metadata": {
        "id": "UvWS-K71tiY9"
      },
      "source": [
        "# Pandas, Openpyxl e automação no Excel\n",
        "\n",
        "\"**Pandas** is a fast, powerful, flexible and easy to use open source data analysis and manipulation tool, built on top of the Python programming language\".\n",
        "\n",
        "Como diz a definição acima, retirada do [site oficial](https://pandas.pydata.org/) da biblioteca, **Pandas** é uma poderosa ferramenta para trabalhar com dados tabulares de forma geral. Isso inclui manipular tabelas e arquivos de excel.\n",
        "\n",
        "<center><img width=\"50%\" src=\"https://cdn.pixabay.com/photo/2016/12/08/15/45/panda-1892023_960_720.png\"></center>\n",
        "\n",
        "Porém, se você precisa trabalhar com planilhas de excel, de forma que se tenha um controle mais fino sobre o arquivo em si, a biblioteca **Openpyxl** poderá te ajudar, atuando em conjunto com o Pandas, para te proporcionar maior automação e eficiência nas sua tarefa.\n",
        "Com o Openpyxl você pode acessar, manipular, editar e criar planilhas. Também é possível inserir fórmulas, imagens e graficos.\n",
        "\n",
        "Abaixo, vamos demonstrar de forma básica algumas aplicações dessa biblioteca."
      ]
    },
    {
      "cell_type": "code",
      "metadata": {
        "id": "c3JPM-kCvDZW"
      },
      "source": [
        "# atualizando a lib\n",
        "!pip install -U openpyxl -q"
      ],
      "execution_count": 3,
      "outputs": []
    },
    {
      "cell_type": "markdown",
      "source": [
        "## 1 - Acessando o arquivo .csv com pandas\n",
        "\n",
        "Criar planilha é uma das várias possibilidades do `Openpyxl`. Neste exemplo, vamos usar o `Pandas` para abrir um arquivo no formato .csv e criar um dataframe. E, com o `openpyxl`, transferir esse dataframe para um novo arquivo xlsx."
      ],
      "metadata": {
        "id": "AfdHYLDmR71d"
      }
    },
    {
      "cell_type": "code",
      "source": [
        "# importando o pandas e os dados\n",
        "import pandas as pd\n",
        "df = pd.read_csv('/content/Informa+º+Áes_demogr+íficas(G+¬nero_Idade_2022.09.27-2022.10.03).csv')\n",
        "\n",
        "# visualizando o data frame\n",
        "df.head()"
      ],
      "metadata": {
        "colab": {
          "base_uri": "https://localhost:8080/",
          "height": 206
        },
        "id": "tM-tg4ryYhpV",
        "outputId": "5c8fe0ed-426e-48e4-bbfd-882e2bb71260"
      },
      "execution_count": 4,
      "outputs": [
        {
          "output_type": "execute_result",
          "data": {
            "text/plain": [
              "      Gênero Faixa de idade  Impressões Porcentagem do total conhecido\n",
              "0  Masculino        18 a 24          59                          6,40%\n",
              "1  Masculino        25 a 34         107                         11,61%\n",
              "2  Masculino        35 a 44          82                          8,89%\n",
              "3  Masculino        45 a 54          73                          7,92%\n",
              "4  Masculino        55 a 64          28                          3,04%"
            ],
            "text/html": [
              "\n",
              "  <div id=\"df-9c18d448-c253-4322-a2b7-8149467a9019\">\n",
              "    <div class=\"colab-df-container\">\n",
              "      <div>\n",
              "<style scoped>\n",
              "    .dataframe tbody tr th:only-of-type {\n",
              "        vertical-align: middle;\n",
              "    }\n",
              "\n",
              "    .dataframe tbody tr th {\n",
              "        vertical-align: top;\n",
              "    }\n",
              "\n",
              "    .dataframe thead th {\n",
              "        text-align: right;\n",
              "    }\n",
              "</style>\n",
              "<table border=\"1\" class=\"dataframe\">\n",
              "  <thead>\n",
              "    <tr style=\"text-align: right;\">\n",
              "      <th></th>\n",
              "      <th>Gênero</th>\n",
              "      <th>Faixa de idade</th>\n",
              "      <th>Impressões</th>\n",
              "      <th>Porcentagem do total conhecido</th>\n",
              "    </tr>\n",
              "  </thead>\n",
              "  <tbody>\n",
              "    <tr>\n",
              "      <th>0</th>\n",
              "      <td>Masculino</td>\n",
              "      <td>18 a 24</td>\n",
              "      <td>59</td>\n",
              "      <td>6,40%</td>\n",
              "    </tr>\n",
              "    <tr>\n",
              "      <th>1</th>\n",
              "      <td>Masculino</td>\n",
              "      <td>25 a 34</td>\n",
              "      <td>107</td>\n",
              "      <td>11,61%</td>\n",
              "    </tr>\n",
              "    <tr>\n",
              "      <th>2</th>\n",
              "      <td>Masculino</td>\n",
              "      <td>35 a 44</td>\n",
              "      <td>82</td>\n",
              "      <td>8,89%</td>\n",
              "    </tr>\n",
              "    <tr>\n",
              "      <th>3</th>\n",
              "      <td>Masculino</td>\n",
              "      <td>45 a 54</td>\n",
              "      <td>73</td>\n",
              "      <td>7,92%</td>\n",
              "    </tr>\n",
              "    <tr>\n",
              "      <th>4</th>\n",
              "      <td>Masculino</td>\n",
              "      <td>55 a 64</td>\n",
              "      <td>28</td>\n",
              "      <td>3,04%</td>\n",
              "    </tr>\n",
              "  </tbody>\n",
              "</table>\n",
              "</div>\n",
              "      <button class=\"colab-df-convert\" onclick=\"convertToInteractive('df-9c18d448-c253-4322-a2b7-8149467a9019')\"\n",
              "              title=\"Convert this dataframe to an interactive table.\"\n",
              "              style=\"display:none;\">\n",
              "        \n",
              "  <svg xmlns=\"http://www.w3.org/2000/svg\" height=\"24px\"viewBox=\"0 0 24 24\"\n",
              "       width=\"24px\">\n",
              "    <path d=\"M0 0h24v24H0V0z\" fill=\"none\"/>\n",
              "    <path d=\"M18.56 5.44l.94 2.06.94-2.06 2.06-.94-2.06-.94-.94-2.06-.94 2.06-2.06.94zm-11 1L8.5 8.5l.94-2.06 2.06-.94-2.06-.94L8.5 2.5l-.94 2.06-2.06.94zm10 10l.94 2.06.94-2.06 2.06-.94-2.06-.94-.94-2.06-.94 2.06-2.06.94z\"/><path d=\"M17.41 7.96l-1.37-1.37c-.4-.4-.92-.59-1.43-.59-.52 0-1.04.2-1.43.59L10.3 9.45l-7.72 7.72c-.78.78-.78 2.05 0 2.83L4 21.41c.39.39.9.59 1.41.59.51 0 1.02-.2 1.41-.59l7.78-7.78 2.81-2.81c.8-.78.8-2.07 0-2.86zM5.41 20L4 18.59l7.72-7.72 1.47 1.35L5.41 20z\"/>\n",
              "  </svg>\n",
              "      </button>\n",
              "      \n",
              "  <style>\n",
              "    .colab-df-container {\n",
              "      display:flex;\n",
              "      flex-wrap:wrap;\n",
              "      gap: 12px;\n",
              "    }\n",
              "\n",
              "    .colab-df-convert {\n",
              "      background-color: #E8F0FE;\n",
              "      border: none;\n",
              "      border-radius: 50%;\n",
              "      cursor: pointer;\n",
              "      display: none;\n",
              "      fill: #1967D2;\n",
              "      height: 32px;\n",
              "      padding: 0 0 0 0;\n",
              "      width: 32px;\n",
              "    }\n",
              "\n",
              "    .colab-df-convert:hover {\n",
              "      background-color: #E2EBFA;\n",
              "      box-shadow: 0px 1px 2px rgba(60, 64, 67, 0.3), 0px 1px 3px 1px rgba(60, 64, 67, 0.15);\n",
              "      fill: #174EA6;\n",
              "    }\n",
              "\n",
              "    [theme=dark] .colab-df-convert {\n",
              "      background-color: #3B4455;\n",
              "      fill: #D2E3FC;\n",
              "    }\n",
              "\n",
              "    [theme=dark] .colab-df-convert:hover {\n",
              "      background-color: #434B5C;\n",
              "      box-shadow: 0px 1px 3px 1px rgba(0, 0, 0, 0.15);\n",
              "      filter: drop-shadow(0px 1px 2px rgba(0, 0, 0, 0.3));\n",
              "      fill: #FFFFFF;\n",
              "    }\n",
              "  </style>\n",
              "\n",
              "      <script>\n",
              "        const buttonEl =\n",
              "          document.querySelector('#df-9c18d448-c253-4322-a2b7-8149467a9019 button.colab-df-convert');\n",
              "        buttonEl.style.display =\n",
              "          google.colab.kernel.accessAllowed ? 'block' : 'none';\n",
              "\n",
              "        async function convertToInteractive(key) {\n",
              "          const element = document.querySelector('#df-9c18d448-c253-4322-a2b7-8149467a9019');\n",
              "          const dataTable =\n",
              "            await google.colab.kernel.invokeFunction('convertToInteractive',\n",
              "                                                     [key], {});\n",
              "          if (!dataTable) return;\n",
              "\n",
              "          const docLinkHtml = 'Like what you see? Visit the ' +\n",
              "            '<a target=\"_blank\" href=https://colab.research.google.com/notebooks/data_table.ipynb>data table notebook</a>'\n",
              "            + ' to learn more about interactive tables.';\n",
              "          element.innerHTML = '';\n",
              "          dataTable['output_type'] = 'display_data';\n",
              "          await google.colab.output.renderOutput(dataTable, element);\n",
              "          const docLink = document.createElement('div');\n",
              "          docLink.innerHTML = docLinkHtml;\n",
              "          element.appendChild(docLink);\n",
              "        }\n",
              "      </script>\n",
              "    </div>\n",
              "  </div>\n",
              "  "
            ]
          },
          "metadata": {},
          "execution_count": 4
        }
      ]
    },
    {
      "cell_type": "markdown",
      "metadata": {
        "id": "uekjFqZ6vBCH"
      },
      "source": [
        "## 2 -Transformando para .xlsx\n",
        "Uma vez carregado nosso data frame, é hora de trabalhar com o openpyxl. Vamos, primeiramente, importar o módulo `Workbook` e o `dataframe_to_rows`, que transforma o dataframe em linhas."
      ]
    },
    {
      "cell_type": "code",
      "metadata": {
        "id": "Uhh-lATmvp2f"
      },
      "source": [
        "# importando os pacotes necessários\n",
        "from openpyxl import Workbook\n",
        "from openpyxl.utils.dataframe import dataframe_to_rows"
      ],
      "execution_count": 5,
      "outputs": []
    },
    {
      "cell_type": "code",
      "metadata": {
        "id": "JFTznW-Kv3vT"
      },
      "source": [
        "# criando a planilha\n",
        "workbook = Workbook()\n",
        "\n",
        "# acessando a aba\n",
        "sheet = workbook.active"
      ],
      "execution_count": 9,
      "outputs": []
    },
    {
      "cell_type": "markdown",
      "metadata": {
        "id": "7FMGmYU7vswN"
      },
      "source": [
        "Com nossa planilha aberta, fazemos uma iteração sobre os dados do data frame para inserir os mesmos na planilha."
      ]
    },
    {
      "cell_type": "code",
      "metadata": {
        "id": "tFmLxUD5wALS"
      },
      "source": [
        "# iterando sobre o dataframe, inserindo os dados nas células\n",
        "for row in dataframe_to_rows(df, index=False, header=True):\n",
        "  sheet.append(row)\n",
        "\n",
        "# salvando a planilha\n",
        "workbook.save(filename='novaplanilha.xlsx')"
      ],
      "execution_count": 10,
      "outputs": []
    },
    {
      "cell_type": "markdown",
      "metadata": {
        "id": "dURaxdVav2Du"
      },
      "source": [
        "Finalizado! Agora, os dados retirados de um arquivo .csv estão disponíveis como uma tabela no excel."
      ]
    },
    {
      "cell_type": "markdown",
      "source": [
        "## 3 -Editando planilha com `openpyxl`"
      ],
      "metadata": {
        "id": "W4VkxJF2fGR0"
      }
    },
    {
      "cell_type": "code",
      "source": [
        "# importando o modulo para abrir um arquivo\n",
        "from openpyxl import load_workbook\n",
        "\n",
        "wb = load_workbook(filename = '/content/novaplanilha.xlsx')\n"
      ],
      "metadata": {
        "id": "AO-wMVCxgB0R"
      },
      "execution_count": 11,
      "outputs": []
    },
    {
      "cell_type": "code",
      "source": [
        "# Acessando uma célula específica da planilha\n",
        "sheet = wb['Sheet']\n",
        "print(sheet['B2'].value)"
      ],
      "metadata": {
        "colab": {
          "base_uri": "https://localhost:8080/"
        },
        "id": "4H3ptd3LgirR",
        "outputId": "fb12f2a0-2e4f-4f36-ef89-b0d5a383b27b"
      },
      "execution_count": 15,
      "outputs": [
        {
          "output_type": "stream",
          "name": "stdout",
          "text": [
            "18 a 24\n"
          ]
        }
      ]
    },
    {
      "cell_type": "markdown",
      "source": [
        "---\n",
        "Este laptop foi inspirado no conteúdo da aula do curso:\n",
        "\n",
        "<img alt=\"Colaboratory logo\" width=\"15%\" src=\"https://raw.githubusercontent.com/carlosfab/escola-data-science/master/img/novo_logo_bg_claro.png\">\n",
        "\n",
        "#### **Python do Zero**\n",
        "*by [sigmoidal.ai](https://sigmoidal.ai)*\n"
      ],
      "metadata": {
        "id": "y1KVBJy8eC46"
      }
    }
  ]
}